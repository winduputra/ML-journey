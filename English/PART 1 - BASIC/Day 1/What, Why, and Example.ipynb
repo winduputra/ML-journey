{
  "nbformat": 4,
  "nbformat_minor": 0,
  "metadata": {
    "colab": {
      "provenance": [],
      "toc_visible": true,
      "authorship_tag": "ABX9TyMIvyoT4bI5oO+HxAS1TqWA",
      "include_colab_link": true
    },
    "kernelspec": {
      "name": "python3",
      "display_name": "Python 3"
    },
    "language_info": {
      "name": "python"
    }
  },
  "cells": [
    {
      "cell_type": "markdown",
      "metadata": {
        "id": "view-in-github",
        "colab_type": "text"
      },
      "source": [
        "<a href=\"https://colab.research.google.com/github/winduputra/my-ML-journey/blob/main/the_machine_learning_landscape.ipynb\" target=\"_parent\"><img src=\"https://colab.research.google.com/assets/colab-badge.svg\" alt=\"Open In Colab\"/></a>"
      ]
    },
    {
      "cell_type": "markdown",
      "metadata": {
        "id": "ba384813"
      },
      "source": [
        "# Day 1: September 24, 2025\n",
        "\n",
        "**Learning Objective:** Understanding the fundamentals of Machine Learning, guided by the book \"Hands-On Machine Learning with Scikit-Learn, Keras & TensorFlow, Third Edition.\"\n",
        "\n",
        "## Key Concepts Covered Today\n",
        "\n",
        "### What is Machine Learning?\n",
        "Machine learning is the science of programming computers so they can learn from data. Instead of hard-coding rules for every possible scenario, you feed an algorithm a large amount of data and let it \"learn\" to find patterns and make predictions. This approach is powerful for tasks where the rules are complex or unknown.\n",
        "\n",
        "### Why use Machine Learning?\n",
        "* **To solve complex problems:** Traditional programming struggles with tasks like speech recognition or predicting stock prices. ML excels at these.\n",
        "* **To adapt to new data:** An ML model can continuously improve as it's exposed to more data.\n",
        "* **To gain insights:** By analyzing vast datasets, ML models can reveal patterns that are invisible to the human eye.\n",
        "\n",
        "### Real-world Applications\n",
        "* **Image Recognition:** Identifying a person in a photo (e.g., Google Photos).\n",
        "* **Recommendation Systems:** Suggesting products you might like on Amazon or movies on Netflix.\n",
        "* **Natural Language Processing (NLP):** Powering virtual assistants like Siri and Google Assistant.\n",
        "* **Medical Diagnosis:** Assisting doctors by analyzing medical images to detect diseases.\n",
        "\n",
        "---"
      ]
    }
  ]
}
